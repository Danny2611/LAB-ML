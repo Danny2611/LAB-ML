{
  "nbformat": 4,
  "nbformat_minor": 0,
  "metadata": {
    "colab": {
      "provenance": [],
      "include_colab_link": true
    },
    "kernelspec": {
      "name": "python3",
      "display_name": "Python 3"
    },
    "language_info": {
      "name": "python"
    }
  },
  "cells": [
    {
      "cell_type": "markdown",
      "metadata": {
        "id": "view-in-github",
        "colab_type": "text"
      },
      "source": [
        "<a href=\"https://colab.research.google.com/github/Danny2611/LAB-ML/blob/master/Lab5_ML_21130584_LeQuocTrung.ipynb\" target=\"_parent\"><img src=\"https://colab.research.google.com/assets/colab-badge.svg\" alt=\"Open In Colab\"/></a>"
      ]
    },
    {
      "cell_type": "markdown",
      "source": [
        "# This lab is to deal with **SVM** to classification tasks and compare its performance with other competitive algorithms. In general, **SVM** is one of the most popular and widely used supervised machine learning algorithms.\n",
        "\n",
        "*   **Deadline: 23:59, 08/04/2024**\n",
        "\n"
      ],
      "metadata": {
        "id": "LMzehe0sy5wr"
      }
    },
    {
      "cell_type": "code",
      "source": [
        "from google.colab import drive\n",
        "drive.mount('/content/gdrive')\n",
        "%cd '/content/gdrive/MyDrive/lab5-ML'"
      ],
      "metadata": {
        "id": "L5JsNZAUsdI4",
        "colab": {
          "base_uri": "https://localhost:8080/"
        },
        "outputId": "0fdbf7b1-647c-4754-fc1a-0153be390a2b"
      },
      "execution_count": null,
      "outputs": [
        {
          "output_type": "stream",
          "name": "stdout",
          "text": [
            "Mounted at /content/gdrive\n",
            "/content/gdrive/MyDrive/lab5-ML\n"
          ]
        }
      ]
    },
    {
      "cell_type": "markdown",
      "source": [
        "# Import libraries"
      ],
      "metadata": {
        "id": "H4nJmxp9zGX4"
      }
    },
    {
      "cell_type": "code",
      "execution_count": null,
      "metadata": {
        "id": "DoVWQ8AEyc-C",
        "colab": {
          "base_uri": "https://localhost:8080/"
        },
        "outputId": "621ee6e1-2876-49e0-d991-98207c0e6928"
      },
      "outputs": [
        {
          "output_type": "stream",
          "name": "stdout",
          "text": [
            "Populating the interactive namespace from numpy and matplotlib\n"
          ]
        },
        {
          "output_type": "stream",
          "name": "stderr",
          "text": [
            "/usr/local/lib/python3.10/dist-packages/IPython/core/magics/pylab.py:159: UserWarning: pylab import has clobbered these variables: ['plt']\n",
            "`%matplotlib` prevents importing * from pylab and numpy\n",
            "  warn(\"pylab import has clobbered these variables: %s\"  % clobbered +\n"
          ]
        }
      ],
      "source": [
        "# code\n",
        "import numpy as np\n",
        "import pandas as pd\n",
        "import matplotlib.pyplot as plt\n",
        "import seaborn as sns\n",
        "import seaborn as sns\n",
        "import matplotlib.ticker as ticker\n",
        "from sklearn import metrics\n",
        "from sklearn.model_selection import train_test_split\n",
        "import matplotlib.pylab as plt\n",
        "from sklearn import svm\n",
        "from sklearn.neighbors import KNeighborsClassifier\n",
        "from sklearn.linear_model import LinearRegression,LogisticRegression\n",
        "from sklearn.tree import DecisionTreeClassifier\n",
        "from sklearn.metrics import classification_report, confusion_matrix\n",
        "from prettytable import PrettyTable\n",
        "from sklearn.metrics import accuracy_score\n",
        "from sklearn.metrics import precision_score\n",
        "from sklearn.metrics import recall_score\n",
        "from sklearn.metrics import f1_score\n",
        "\n",
        "%pylab inline\n",
        "#%run Utils.ipynb\n",
        "# Warnings configuration\n",
        "# ==============================================================================\n",
        "import warnings\n",
        "# warnings.filterwarnings('ignore')\n"
      ]
    },
    {
      "cell_type": "markdown",
      "source": [
        "#Task 1.\n",
        "For **breast cancer** dataset (https://tinyurl.com/3vme8hr3) which could be loaded from datasets in sklearn as follows:\n",
        "\n",
        "```\n",
        "#Import scikit-learn dataset library\n",
        "from sklearn import datasets\n",
        "\n",
        "#Load dataset\n",
        "cancer = datasets.load_breast_cancer()\n",
        "```\n",
        "\n",
        "*   1.1.\tApply **SVM algorithm** to above dataset using linear kernel.\n",
        "*   1.2.\tCompare the obtained results with other competitive algorithms (**Logistic Regression, Decision Tree, kNN**) based on metrics: accuracy, precision, recall, f1 measures.\n",
        "\n"
      ],
      "metadata": {
        "id": "kNv07ARGzOUm"
      }
    },
    {
      "cell_type": "code",
      "source": [
        "from sklearn import svm\n",
        "from sklearn import datasets\n",
        "from prettytable import PrettyTable\n",
        "\n",
        "# Load dataset\n",
        "cancer = datasets.load_breast_cancer()\n",
        "X= cancer['data']\n",
        "y = cancer['target']\n",
        "clf = svm.SVC(kernel='linear')\n",
        "X_train, X_test, y_train, y_test = train_test_split(X, y, test_size=0.3, random_state=50)\n",
        "clf.fit(X_train,y_train)\n",
        "\n",
        "lr = LogisticRegression()\n",
        "dt= DecisionTreeClassifier()\n",
        "knn = KNeighborsClassifier()\n",
        "\n",
        "lr.fit(X_train,y_train)\n",
        "dt.fit(X_train,y_train)\n",
        "knn.fit(X_train,y_train)\n",
        "\n",
        "lr_pred = lr.predict(X_test)\n",
        "dt_pred = dt.predict(X_test)\n",
        "knn_pred = knn.predict(X_test)\n",
        "svm_pred = clf.predict(X_test)\n",
        "\n",
        "svm_accuracy = accuracy_score(y_test, svm_pred)\n",
        "svm_precision = precision_score(y_test, svm_pred)\n",
        "svm_recall = recall_score(y_test, svm_pred)\n",
        "svm_f1 = f1_score(y_test, svm_pred)\n",
        "\n",
        "lr_accuracy = accuracy_score(y_test, lr_pred)\n",
        "lr_precision = precision_score(y_test, lr_pred)\n",
        "lr_recall = recall_score(y_test, lr_pred)\n",
        "lr_f1 = f1_score(y_test, lr_pred)\n",
        "\n",
        "dt_accuracy = accuracy_score(y_test, dt_pred)\n",
        "dt_precision = precision_score(y_test, dt_pred)\n",
        "dt_recall = recall_score(y_test, dt_pred)\n",
        "dt_f1 = f1_score(y_test, dt_pred)\n",
        "\n",
        "knn_accuracy = accuracy_score(y_test, knn_pred)\n",
        "knn_precision = precision_score(y_test, knn_pred)\n",
        "knn_recall = recall_score(y_test, knn_pred)\n",
        "knn_f1 = f1_score(y_test, knn_pred)\n",
        "\n",
        "t = PrettyTable(['Metrics', 'Accuracy', 'Precision', 'Recall', 'F1 Score'])\n",
        " # To insert rows:\n",
        "t.add_row(['SVM Metrics', svm_accuracy , svm_precision, svm_recall, svm_f1])\n",
        "t.add_row(['Logistic Regression Metrics', lr_accuracy , lr_precision, lr_recall, lr_f1])\n",
        "t.add_row(['Decision Tree Metrics', dt_accuracy , dt_precision, dt_recall, dt_f1])\n",
        "t.add_row(['kNN Metrics', knn_accuracy , knn_precision, knn_recall, knn_f1])\n",
        "\n",
        "print(t)\n",
        "\n"
      ],
      "metadata": {
        "id": "sOsg77IBzEyo",
        "colab": {
          "base_uri": "https://localhost:8080/"
        },
        "outputId": "b3ea7a8f-a1da-413d-8ee8-bfcdbe560ea8"
      },
      "execution_count": null,
      "outputs": [
        {
          "output_type": "stream",
          "name": "stdout",
          "text": [
            "+-----------------------------+--------------------+--------------------+--------------------+--------------------+\n",
            "|           Metrics           |      Accuracy      |     Precision      |       Recall       |      F1 Score      |\n",
            "+-----------------------------+--------------------+--------------------+--------------------+--------------------+\n",
            "|         SVM Metrics         | 0.9649122807017544 | 0.9732142857142857 | 0.9732142857142857 | 0.9732142857142857 |\n",
            "| Logistic Regression Metrics | 0.9473684210526315 | 0.9478260869565217 | 0.9732142857142857 | 0.960352422907489  |\n",
            "|    Decision Tree Metrics    | 0.9239766081871345 | 0.9626168224299065 | 0.9196428571428571 | 0.9406392694063926 |\n",
            "|         kNN Metrics         | 0.9181286549707602 | 0.9224137931034483 | 0.9553571428571429 | 0.9385964912280702 |\n",
            "+-----------------------------+--------------------+--------------------+--------------------+--------------------+\n"
          ]
        },
        {
          "output_type": "stream",
          "name": "stderr",
          "text": [
            "/usr/local/lib/python3.10/dist-packages/sklearn/linear_model/_logistic.py:458: ConvergenceWarning: lbfgs failed to converge (status=1):\n",
            "STOP: TOTAL NO. of ITERATIONS REACHED LIMIT.\n",
            "\n",
            "Increase the number of iterations (max_iter) or scale the data as shown in:\n",
            "    https://scikit-learn.org/stable/modules/preprocessing.html\n",
            "Please also refer to the documentation for alternative solver options:\n",
            "    https://scikit-learn.org/stable/modules/linear_model.html#logistic-regression\n",
            "  n_iter_i = _check_optimize_result(\n"
          ]
        }
      ]
    },
    {
      "cell_type": "markdown",
      "source": [
        "#Task 2.\n",
        "\n",
        "*   2.1.\tPerform SVM algorithm to **Iris dataset** using **linear kernel**.\n",
        "*   2.2.\tCompare the obtained results in task 2.1 with **SVM** using other kernels (**Polynomial Kernel, Sigmoid Kernel, Radial Basis Function Kernel**). Some metrics could be used: **accuracy, precision, recall, f1** measures\n"
      ],
      "metadata": {
        "id": "S43IoUT-0OQq"
      }
    },
    {
      "cell_type": "code",
      "source": [
        "# code\n",
        "from sklearn import datasets, svm\n",
        "from sklearn.model_selection import train_test_split\n",
        "from sklearn.metrics import accuracy_score, precision_score, recall_score, f1_score\n",
        "from prettytable import PrettyTable\n",
        "\n",
        "iris = datasets.load_iris()\n",
        "X = iris.data\n",
        "y = iris.target\n",
        "\n",
        "\n",
        "X_train, X_test, y_train, y_test = train_test_split(X, y, test_size=0.3, random_state=50)\n",
        "\n",
        "clf_linear = svm.SVC(kernel='linear')\n",
        "clf_poly = svm.SVC(kernel='poly')\n",
        "clf_rbf = svm.SVC(kernel='rbf')\n",
        "clf_sig = svm.SVC(kernel='sigmoid')\n",
        "\n",
        "clf_linear.fit(X_train, y_train)\n",
        "clf_poly.fit(X_train, y_train)\n",
        "clf_rbf.fit(X_train, y_train)\n",
        "clf_sig.fit(X_train, y_train)\n",
        "\n",
        "y_linear = clf_linear.predict(X_test)\n",
        "y_poly = clf_poly.predict(X_test)\n",
        "y_rbf = clf_rbf.predict(X_test)\n",
        "y_sig = clf_sig.predict(X_test)\n",
        "\n",
        "linear_accuracy = accuracy_score(y_test, y_linear)\n",
        "linear_precision = precision_score(y_test, y_linear, average='weighted')\n",
        "linear_recall = recall_score(y_test, y_linear, average='weighted')\n",
        "linear_f1 = f1_score(y_test, y_linear, average='weighted')\n",
        "\n",
        "poly_accuracy = accuracy_score(y_test, y_poly)\n",
        "poly_precision = precision_score(y_test, y_poly, average='weighted')\n",
        "poly_recall = recall_score(y_test, y_poly, average='weighted')\n",
        "poly_f1 = f1_score(y_test, y_poly, average='weighted')\n",
        "\n",
        "rbf_accuracy = accuracy_score(y_test, y_rbf)\n",
        "rbf_precision = precision_score(y_test, y_rbf, average='weighted')\n",
        "rbf_recall = recall_score(y_test, y_rbf, average='weighted')\n",
        "rbf_f1 = f1_score(y_test, y_rbf, average='weighted')\n",
        "\n",
        "sig_accuracy = accuracy_score(y_test, y_sig)\n",
        "sig_precision = precision_score(y_test, y_sig, average='weighted')\n",
        "sig_recall = recall_score(y_test, y_sig, average='weighted')\n",
        "sig_f1 = f1_score(y_test, y_sig, average='weighted')\n",
        "\n",
        "table = PrettyTable(['Kernel', 'Accuracy', 'Precision', 'Recall', 'F1 Score'])\n",
        " # To insert rows:\n",
        "table.add_row(['Linear', linear_accuracy, linear_precision, linear_recall, linear_f1])\n",
        "table.add_row(['Polynomial', poly_accuracy, poly_precision, poly_recall, poly_f1])\n",
        "table.add_row(['RBF', rbf_accuracy, rbf_precision, rbf_recall, rbf_f1])\n",
        "table.add_row(['Sigmoid', sig_accuracy, sig_precision, sig_recall, sig_f1])\n",
        "print(t)\n",
        "\n"
      ],
      "metadata": {
        "id": "_xhPpF5b033h",
        "colab": {
          "base_uri": "https://localhost:8080/"
        },
        "outputId": "dd6d83df-1eef-4ea7-fb4c-c467759b42c2"
      },
      "execution_count": null,
      "outputs": [
        {
          "output_type": "stream",
          "name": "stdout",
          "text": [
            "+------------+--------------------+--------------------+--------------------+--------------------+\n",
            "|   Kernel   |      Accuracy      |     Precision      |       Recall       |      F1 Score      |\n",
            "+------------+--------------------+--------------------+--------------------+--------------------+\n",
            "|   Linear   | 0.9649122807017544 | 0.9732142857142857 | 0.9732142857142857 | 0.9732142857142857 |\n",
            "| Polynomial | 0.9473684210526315 | 0.9478260869565217 | 0.9732142857142857 | 0.960352422907489  |\n",
            "|    RBF     | 0.9298245614035088 | 0.9716981132075472 | 0.9196428571428571 | 0.944954128440367  |\n",
            "|  Sigmoid   | 0.9181286549707602 | 0.9224137931034483 | 0.9553571428571429 | 0.9385964912280702 |\n",
            "+------------+--------------------+--------------------+--------------------+--------------------+\n"
          ]
        },
        {
          "output_type": "stream",
          "name": "stderr",
          "text": [
            "/usr/local/lib/python3.10/dist-packages/sklearn/metrics/_classification.py:1344: UndefinedMetricWarning: Precision is ill-defined and being set to 0.0 in labels with no predicted samples. Use `zero_division` parameter to control this behavior.\n",
            "  _warn_prf(average, modifier, msg_start, len(result))\n"
          ]
        }
      ]
    },
    {
      "cell_type": "markdown",
      "source": [
        "#Task 3.\n",
        "Compare the performance of selected classification algorithms (**Decision Tree, kNN, Logistic Regression**) and **SVM** (using different kernels) with **FASHION** dataset based on **accuracy, precision, recall, f1** measures.\n"
      ],
      "metadata": {
        "id": "b52OPWPD2afi"
      }
    },
    {
      "cell_type": "code",
      "source": [
        "import pandas as pd\n",
        "from sklearn.model_selection import train_test_split\n",
        "from sklearn.preprocessing import StandardScaler\n",
        "from sklearn.tree import DecisionTreeClassifier\n",
        "from sklearn.neighbors import KNeighborsClassifier\n",
        "from sklearn.linear_model import LogisticRegression\n",
        "from sklearn.svm import SVC\n",
        "from sklearn.metrics import accuracy_score, precision_score, recall_score, f1_score\n",
        "\n",
        "data_train = pd.read_csv('fashion_train.csv')\n",
        "X_train = data_train.drop('y', axis=1)\n",
        "y_train = data_train['y']\n",
        "\n",
        "\n",
        "scaler = StandardScaler()\n",
        "X_train_scaled = scaler.fit_transform(X_train)\n",
        "\n",
        "\n",
        "X_train_split, X_test, y_train_split, y_test = train_test_split(X_train_scaled, y_train, test_size=0.2, random_state=42)\n",
        "\n",
        "\n",
        "models = {\n",
        "    'Decision Tree': DecisionTreeClassifier(),\n",
        "    'kNN': KNeighborsClassifier(),\n",
        "    'Logistic Regression': LogisticRegression(),\n",
        "    'SVM (Linear Kernel)': SVC(kernel='linear'),\n",
        "    'SVM (Polynomial Kernel)': SVC(kernel='poly'),\n",
        "    'SVM (RBF Kernel)': SVC(kernel='rbf')\n",
        "}\n",
        "\n",
        "\n",
        "results = {}\n",
        "for name, model in models.items():\n",
        "    model.fit(X_train_split, y_train_split)\n",
        "    y_pred = model.predict(X_test)\n",
        "    accuracy = accuracy_score(y_test, y_pred)\n",
        "    precision = precision_score(y_test, y_pred, average='weighted')\n",
        "    recall = recall_score(y_test, y_pred, average='weighted')\n",
        "    f1 = f1_score(y_test, y_pred, average='weighted')\n",
        "    results[name] = {'Accuracy': accuracy, 'Precision': precision, 'Recall': recall, 'F1 Score': f1}\n",
        "\n",
        "\n",
        "results_df = pd.DataFrame.from_dict(results, orient='index')\n",
        "\n",
        "\n",
        "print(results_df)\n"
      ],
      "metadata": {
        "colab": {
          "base_uri": "https://localhost:8080/"
        },
        "id": "UpGah827bt_z",
        "outputId": "5e014a60-2dd5-40e2-b1bd-f3f19e5284ff"
      },
      "execution_count": null,
      "outputs": [
        {
          "output_type": "stream",
          "name": "stderr",
          "text": [
            "/usr/local/lib/python3.10/dist-packages/sklearn/linear_model/_logistic.py:458: ConvergenceWarning: lbfgs failed to converge (status=1):\n",
            "STOP: TOTAL NO. of ITERATIONS REACHED LIMIT.\n",
            "\n",
            "Increase the number of iterations (max_iter) or scale the data as shown in:\n",
            "    https://scikit-learn.org/stable/modules/preprocessing.html\n",
            "Please also refer to the documentation for alternative solver options:\n",
            "    https://scikit-learn.org/stable/modules/linear_model.html#logistic-regression\n",
            "  n_iter_i = _check_optimize_result(\n"
          ]
        },
        {
          "output_type": "stream",
          "name": "stdout",
          "text": [
            "                         Accuracy  Precision  Recall  F1 Score\n",
            "Decision Tree               0.660   0.676517   0.660  0.662766\n",
            "kNN                         0.780   0.799194   0.780  0.775947\n",
            "Logistic Regression         0.785   0.794524   0.785  0.782709\n",
            "SVM (Linear Kernel)         0.825   0.828974   0.825  0.821982\n",
            "SVM (Polynomial Kernel)     0.650   0.804337   0.650  0.674140\n",
            "SVM (RBF Kernel)            0.795   0.806615   0.795  0.792165\n"
          ]
        }
      ]
    },
    {
      "cell_type": "markdown",
      "source": [
        "#Task 4.\n",
        "For a given mobile price classification dataset with the following information:\n",
        "\n",
        "*   **Attributes**: 'battery_power', 'blue', 'clock_speed', 'dual_sim', 'fc', 'four_g', 'int_memory', 'm_dep', 'mobile_wt', 'n_cores', 'pc', 'px_height',\n",
        "       'px_width', 'ram', 'sc_h', 'sc_w', 'talk_time', 'three_g',     'touch_screen', 'wifi'\n",
        "*   **class label**: ***price_range*** (0,1,2,3)\n",
        "\n"
      ],
      "metadata": {
        "id": "Z5pp7_h-aP2u"
      }
    },
    {
      "cell_type": "markdown",
      "source": [
        "#Task 4.1.\n",
        "Compare the performance of selected classification algorithms (**Decision Tree, kNN, Logistic Regression**) and **SVM** (using different kernels) with **mobile price classification** based on **accuracy, precision, recall, f1** measures."
      ],
      "metadata": {
        "id": "I348UU6nHjGl"
      }
    },
    {
      "cell_type": "code",
      "source": [
        "import pandas as pd\n",
        "from sklearn.model_selection import train_test_split\n",
        "from sklearn.preprocessing import StandardScaler\n",
        "from sklearn.svm import SVC\n",
        "from sklearn.linear_model import LogisticRegression\n",
        "from sklearn.tree import DecisionTreeClassifier\n",
        "from sklearn.neighbors import KNeighborsClassifier\n",
        "from sklearn.metrics import accuracy_score, precision_score, recall_score, f1_score\n",
        "from prettytable import PrettyTable\n",
        "\n",
        "\n",
        "data_train = pd.read_csv('mobile_train.csv')\n",
        "X = data_train.drop('price_range', axis=1)\n",
        "y = data_train['price_range']\n",
        "\n",
        "\n",
        "scaler = StandardScaler()\n",
        "X_scaled = scaler.fit_transform(X)\n",
        "\n",
        "\n",
        "X_train, X_test, y_train, y_test = train_test_split(X_scaled, y, test_size=0.2, random_state=42)\n",
        "\n",
        "\n",
        "classifiers = {\n",
        "    'SVM (Linear Kernel)': SVC(kernel='linear'),\n",
        "    'Logistic Regression': LogisticRegression(),\n",
        "    'Decision Tree': DecisionTreeClassifier(),\n",
        "    'kNN': KNeighborsClassifier()\n",
        "}\n",
        "\n",
        "\n",
        "results = {}\n",
        "for name, classifier in classifiers.items():\n",
        "    classifier.fit(X_train, y_train)\n",
        "    y_pred = classifier.predict(X_test)\n",
        "    accuracy = accuracy_score(y_test, y_pred)\n",
        "    precision = precision_score(y_test, y_pred, average='weighted')\n",
        "    recall = recall_score(y_test, y_pred, average='weighted')\n",
        "    f1 = f1_score(y_test, y_pred, average='weighted')\n",
        "    results[name] = {'Accuracy': accuracy, 'Precision': precision, 'Recall': recall, 'F1 Score': f1}\n",
        "\n",
        "table = PrettyTable(['Classifier', 'Accuracy', 'Precision', 'Recall', 'F1 Score'])\n",
        "\n",
        "\n",
        "for name, metrics in results.items():\n",
        "    table.add_row([name, metrics['Accuracy'], metrics['Precision'], metrics['Recall'], metrics['F1 Score']])\n",
        "\n",
        "\n",
        "print(table)\n"
      ],
      "metadata": {
        "id": "Rw_-8FIf2KxW",
        "colab": {
          "base_uri": "https://localhost:8080/"
        },
        "outputId": "d811b6fb-0f83-427d-9ac2-6363816edd7e"
      },
      "execution_count": null,
      "outputs": [
        {
          "output_type": "stream",
          "name": "stdout",
          "text": [
            "+---------------------+----------+--------------------+--------+--------------------+\n",
            "|      Classifier     | Accuracy |     Precision      | Recall |      F1 Score      |\n",
            "+---------------------+----------+--------------------+--------+--------------------+\n",
            "| SVM (Linear Kernel) |   0.97   | 0.972562966822998  |  0.97  | 0.9701968604169544 |\n",
            "| Logistic Regression |  0.9775  | 0.9781689842503988 | 0.9775 | 0.9774903455943221 |\n",
            "|    Decision Tree    |  0.8225  | 0.8246444833362585 | 0.8225 | 0.822273725077705  |\n",
            "|         kNN         |   0.53   | 0.5682169902481286 |  0.53  | 0.5401229578268727 |\n",
            "+---------------------+----------+--------------------+--------+--------------------+\n"
          ]
        }
      ]
    },
    {
      "cell_type": "markdown",
      "source": [
        "#Task 4.2.\n",
        "Predict class label for test set using the best model found in task 4.1"
      ],
      "metadata": {
        "id": "TY35jiORHPJh"
      }
    },
    {
      "cell_type": "code",
      "source": [
        "#code\n",
        "import pandas as pd\n",
        "from sklearn.model_selection import train_test_split\n",
        "from sklearn.preprocessing import StandardScaler\n",
        "from sklearn.svm import SVC\n",
        "from sklearn.metrics import accuracy_score, precision_score, recall_score, f1_score\n",
        "from prettytable import PrettyTable\n",
        "\n",
        "data_train = pd.read_csv('mobile_train.csv')\n",
        "X = data_train.drop('price_range', axis=1)\n",
        "y = data_train['price_range']\n",
        "\n",
        "\n",
        "scaler = StandardScaler()\n",
        "X_scaled = scaler.fit_transform(X)\n",
        "\n",
        "\n",
        "X_train, X_test, y_train, y_test = train_test_split(X_scaled, y, test_size=0.2, random_state=42)\n",
        "\n",
        "\n",
        "best_model = SVC(kernel='linear')\n",
        "best_model.fit(X_train, y_train)\n",
        "\n",
        "\n",
        "y_pred_test = best_model.predict(X_test)\n",
        "\n",
        "\n",
        "accuracy = accuracy_score(y_test, y_pred_test)\n",
        "precision = precision_score(y_test, y_pred_test, average='weighted')\n",
        "recall = recall_score(y_test, y_pred_test, average='weighted')\n",
        "f1 = f1_score(y_test, y_pred_test, average='weighted')\n",
        "\n",
        "\n",
        "table = PrettyTable(['Evaluation Metric', 'Value'])\n",
        "\n",
        "\n",
        "table.add_row([\"Accuracy\", accuracy])\n",
        "table.add_row([\"Precision\", precision])\n",
        "table.add_row([\"Recall\", recall])\n",
        "table.add_row([\"F1 Score\", f1])\n",
        "\n",
        "\n",
        "print(\"Evaluation Metrics for the Best Model (SVM with Linear Kernel):\")\n",
        "print(table)\n"
      ],
      "metadata": {
        "id": "z_irQuKyHtdP",
        "colab": {
          "base_uri": "https://localhost:8080/"
        },
        "outputId": "e0050665-262b-4623-9f5b-eea761650207"
      },
      "execution_count": null,
      "outputs": [
        {
          "output_type": "stream",
          "name": "stdout",
          "text": [
            "Evaluation Metrics for the Best Model (SVM with Linear Kernel):\n",
            "+-------------------+--------------------+\n",
            "| Evaluation Metric |       Value        |\n",
            "+-------------------+--------------------+\n",
            "|      Accuracy     |        0.97        |\n",
            "|     Precision     | 0.972562966822998  |\n",
            "|       Recall      |        0.97        |\n",
            "|      F1 Score     | 0.9701968604169544 |\n",
            "+-------------------+--------------------+\n"
          ]
        }
      ]
    },
    {
      "cell_type": "markdown",
      "source": [
        "#Task 5.\n",
        "\n",
        "*   5.1.\tPerform SVM algorithm to **spambase dataset** using **linear kernel**.\n",
        "*   5.2.\tCompare the obtained results in task 5.1 with **SVM** using other kernels (**Polynomial Kernel, Sigmoid Kernel, Radial Basis Function Kernel**). Some metrics could be used: **accuracy, precision, recall, f1** measures"
      ],
      "metadata": {
        "id": "7SCMLfMfyWPU"
      }
    },
    {
      "cell_type": "code",
      "source": [
        "import pandas as pd\n",
        "from sklearn.model_selection import train_test_split\n",
        "from sklearn.preprocessing import StandardScaler\n",
        "from sklearn.svm import SVC\n",
        "from sklearn.metrics import accuracy_score, precision_score, recall_score, f1_score\n",
        "\n",
        "\n",
        "data = pd.read_csv('spambase.csv')\n",
        "\n",
        "\n",
        "X = data.drop('class', axis=1)\n",
        "y = data['class']\n",
        "\n",
        "\n",
        "X_train, X_test, y_train, y_test = train_test_split(X, y, test_size=0.2, random_state=42)\n",
        "\n",
        "\n",
        "scaler = StandardScaler()\n",
        "X_train_scaled = scaler.fit_transform(X_train)\n",
        "X_test_scaled = scaler.transform(X_test)\n",
        "\n",
        "\n",
        "svm_linear = SVC(kernel='linear')\n",
        "svm_linear.fit(X_train_scaled, y_train)\n",
        "y_pred_linear = svm_linear.predict(X_test_scaled)\n",
        "\n",
        "\n",
        "print(\"SVM with Linear Kernel:\")\n",
        "print(\"Accuracy:\", accuracy_score(y_test, y_pred_linear))\n",
        "print(\"Precision:\", precision_score(y_test, y_pred_linear))\n",
        "print(\"Recall:\", recall_score(y_test, y_pred_linear))\n",
        "print(\"F1 Score:\", f1_score(y_test, y_pred_linear))\n",
        "\n",
        "kernels = ['poly', 'sigmoid', 'rbf']\n",
        "for kernel in kernels:\n",
        "    svm_kernel = SVC(kernel=kernel)\n",
        "    svm_kernel.fit(X_train_scaled, y_train)\n",
        "    y_pred_kernel = svm_kernel.predict(X_test_scaled)\n",
        "\n",
        "\n",
        "    print(f\"\\nSVM with {kernel.capitalize()} Kernel:\")\n",
        "    print(\"Accuracy:\", accuracy_score(y_test, y_pred_kernel))\n",
        "    print(\"Precision:\", precision_score(y_test, y_pred_kernel))\n",
        "    print(\"Recall:\", recall_score(y_test, y_pred_kernel))\n",
        "    print(\"F1 Score:\", f1_score(y_test, y_pred_kernel))\n"
      ],
      "metadata": {
        "id": "CU4u3CvDyfxg",
        "colab": {
          "base_uri": "https://localhost:8080/"
        },
        "outputId": "cac8f177-97ae-45ff-c35c-c0a9267c5ebc"
      },
      "execution_count": null,
      "outputs": [
        {
          "output_type": "stream",
          "name": "stdout",
          "text": [
            "SVM with Linear Kernel:\n",
            "Accuracy: 0.9261672095548317\n",
            "Precision: 0.9351351351351351\n",
            "Recall: 0.8871794871794871\n",
            "F1 Score: 0.9105263157894737\n",
            "\n",
            "SVM with Poly Kernel:\n",
            "Accuracy: 0.7665580890336591\n",
            "Precision: 0.9441624365482234\n",
            "Recall: 0.47692307692307695\n",
            "F1 Score: 0.6337308347529813\n",
            "\n",
            "SVM with Sigmoid Kernel:\n",
            "Accuracy: 0.8762214983713354\n",
            "Precision: 0.8729729729729729\n",
            "Recall: 0.8282051282051283\n",
            "F1 Score: 0.8500000000000001\n",
            "\n",
            "SVM with Rbf Kernel:\n",
            "Accuracy: 0.9348534201954397\n",
            "Precision: 0.9508196721311475\n",
            "Recall: 0.8923076923076924\n",
            "F1 Score: 0.9206349206349206\n"
          ]
        }
      ]
    },
    {
      "cell_type": "markdown",
      "source": [
        "#Finally,\n",
        "Save a copy in your Github. Remember renaming the notebook."
      ],
      "metadata": {
        "id": "Ok7RGkea_b7n"
      }
    }
  ]
}